{
 "cells": [
  {
   "cell_type": "code",
   "execution_count": 1,
   "metadata": {
    "slideshow": {
     "slide_type": "skip"
    }
   },
   "outputs": [],
   "source": [
    "# this notebook requires plato and vispy for visualization\n",
    "import numpy as np\n",
    "from numpy import linalg as LA\n",
    "from fedorov import AflowPrototype, convert_to_box, fractional_to_cartesian\n",
    "import plato\n",
    "\n",
    "import vispy, vispy.app\n",
    "vispy.app.use_app('ipynb_webgl')\n",
    "import plato.draw.vispy as draw\n",
    "\n",
    "from ipywidgets import interactive, interact\n",
    "import ipywidgets as widgets\n",
    "import IPython\n",
    "import os\n",
    "import pandas as pd\n"
   ]
  },
  {
   "cell_type": "code",
   "execution_count": 2,
   "metadata": {
    "slideshow": {
     "slide_type": "skip"
    }
   },
   "outputs": [],
   "source": [
    "def make_positions_for_box(basis_vectors, type_list):\n",
    "    basis_vectors = np.vstack((basis_vectors, basis_vectors + [0,0,1], basis_vectors + [0,1,0],\n",
    "                               basis_vectors + [1,0,0], basis_vectors + [0,1,1], basis_vectors + [1,0,1],\n",
    "                               basis_vectors + [1,1,0], basis_vectors + [1,1,1]))\n",
    "    type_list = type_list * 8\n",
    "    N = len(type_list)\n",
    "    index = np.arange(0,N,1)\n",
    "    index = index[LA.norm(basis_vectors, ord=np.inf, axis=1)<1.001].tolist()\n",
    "    type_list = [type_list[i] for i in index]\n",
    "    basis_vectors = basis_vectors[LA.norm(basis_vectors, ord=np.inf, axis=1)<1.001,:]\n",
    "    basis_vectors -= [0.5,0.5,0.5]\n",
    "    return  basis_vectors, type_list"
   ]
  },
  {
   "cell_type": "code",
   "execution_count": 3,
   "metadata": {
    "slideshow": {
     "slide_type": "skip"
    }
   },
   "outputs": [],
   "source": [
    "# Color from\n",
    "# http://www.randalolson.com/2014/06/28/how-to-make-beautiful-data-visualizations-in-python-with-matplotlib/   \n",
    "tableau20 = [(31, 119, 180), (174, 199, 232), (255, 127, 14), (255, 187, 120),    \n",
    "             (44, 160, 44), (152, 223, 138), (214, 39, 40), (255, 152, 150),    \n",
    "             (148, 103, 189), (197, 176, 213), (140, 86, 75), (196, 156, 148),    \n",
    "             (227, 119, 194), (247, 182, 210), (127, 127, 127), (199, 199, 199),    \n",
    "             (188, 189, 34), (219, 219, 141), (23, 190, 207), (158, 218, 229)]    \n",
    " \n",
    "for i in range(len(tableau20)):    \n",
    "    r, g, b = tableau20[i]    \n",
    "    tableau20[i] = (r / 255., g / 255., b / 255., 1)\n",
    "\n",
    "type_list = ['A', 'B', 'C', 'D', 'E', 'F', 'G', 'H', 'I', 'J', 'K', 'L', 'M', 'N', 'O', 'P', 'Q', 'R', 'S', 'T']\n",
    "\n",
    "colormap = dict(zip(type_list, tableau20))"
   ]
  },
  {
   "cell_type": "code",
   "execution_count": 6,
   "metadata": {
    "slideshow": {
     "slide_type": "skip"
    }
   },
   "outputs": [
    {
     "data": {
      "text/html": [
       "<div>\n",
       "<style scoped>\n",
       "    .dataframe tbody tr th:only-of-type {\n",
       "        vertical-align: middle;\n",
       "    }\n",
       "\n",
       "    .dataframe tbody tr th {\n",
       "        vertical-align: top;\n",
       "    }\n",
       "\n",
       "    .dataframe thead th {\n",
       "        text-align: right;\n",
       "    }\n",
       "</style>\n",
       "<table border=\"1\" class=\"dataframe\">\n",
       "  <thead>\n",
       "    <tr style=\"text-align: right;\">\n",
       "      <th></th>\n",
       "      <th>id</th>\n",
       "      <th>Pearson_symbol</th>\n",
       "      <th>space_group_number</th>\n",
       "      <th>Wyckoff_site</th>\n",
       "      <th>lattice_params_list</th>\n",
       "      <th>basis_params_list</th>\n",
       "      <th>lattice_params_value_list</th>\n",
       "      <th>basis_params_value_list</th>\n",
       "    </tr>\n",
       "    <tr>\n",
       "      <th>prototype_index</th>\n",
       "      <th></th>\n",
       "      <th></th>\n",
       "      <th></th>\n",
       "      <th></th>\n",
       "      <th></th>\n",
       "      <th></th>\n",
       "      <th></th>\n",
       "      <th></th>\n",
       "    </tr>\n",
       "  </thead>\n",
       "  <tbody>\n",
       "    <tr>\n",
       "      <th>0</th>\n",
       "      <td>hP4-C-194</td>\n",
       "      <td>hP4</td>\n",
       "      <td>194</td>\n",
       "      <td>['f']</td>\n",
       "      <td>['a', 'c/a']</td>\n",
       "      <td>['z1']</td>\n",
       "      <td>[2.508, 1.66786283892]</td>\n",
       "      <td>[0.05995]</td>\n",
       "    </tr>\n",
       "    <tr>\n",
       "      <th>1</th>\n",
       "      <td>cP8-Cr3Si-223</td>\n",
       "      <td>cP8</td>\n",
       "      <td>223</td>\n",
       "      <td>['c', 'a']</td>\n",
       "      <td>['a']</td>\n",
       "      <td>[]</td>\n",
       "      <td>[4.556]</td>\n",
       "      <td>[]</td>\n",
       "    </tr>\n",
       "    <tr>\n",
       "      <th>2</th>\n",
       "      <td>tI18-V4Zn5-139</td>\n",
       "      <td>tI18</td>\n",
       "      <td>139</td>\n",
       "      <td>['i', 'ah']</td>\n",
       "      <td>['a', 'c/a']</td>\n",
       "      <td>['x2', 'x3']</td>\n",
       "      <td>[8.91, 0.361391694725]</td>\n",
       "      <td>[0.328, 0.348]</td>\n",
       "    </tr>\n",
       "    <tr>\n",
       "      <th>3</th>\n",
       "      <td>tI28-Mn3O4-141</td>\n",
       "      <td>tI28</td>\n",
       "      <td>141</td>\n",
       "      <td>['ad', 'h']</td>\n",
       "      <td>['a', 'c/a']</td>\n",
       "      <td>['y3', 'z3']</td>\n",
       "      <td>[5.765, 1.63781439722]</td>\n",
       "      <td>[0.0278, 0.2589]</td>\n",
       "    </tr>\n",
       "    <tr>\n",
       "      <th>4</th>\n",
       "      <td>hP14-B5W2-194</td>\n",
       "      <td>hP14</td>\n",
       "      <td>194</td>\n",
       "      <td>['abdf', 'f']</td>\n",
       "      <td>['a', 'c/a']</td>\n",
       "      <td>['z4', 'z5']</td>\n",
       "      <td>[2.982, 4.651240778]</td>\n",
       "      <td>[0.528, 0.139]</td>\n",
       "    </tr>\n",
       "  </tbody>\n",
       "</table>\n",
       "</div>"
      ],
      "text/plain": [
       "                             id Pearson_symbol  space_group_number  \\\n",
       "prototype_index                                                      \n",
       "0                     hP4-C-194            hP4                 194   \n",
       "1                 cP8-Cr3Si-223            cP8                 223   \n",
       "2                tI18-V4Zn5-139           tI18                 139   \n",
       "3                tI28-Mn3O4-141           tI28                 141   \n",
       "4                 hP14-B5W2-194           hP14                 194   \n",
       "\n",
       "                  Wyckoff_site lattice_params_list basis_params_list  \\\n",
       "prototype_index                                                        \n",
       "0                        ['f']        ['a', 'c/a']            ['z1']   \n",
       "1                   ['c', 'a']               ['a']                []   \n",
       "2                  ['i', 'ah']        ['a', 'c/a']      ['x2', 'x3']   \n",
       "3                  ['ad', 'h']        ['a', 'c/a']      ['y3', 'z3']   \n",
       "4                ['abdf', 'f']        ['a', 'c/a']      ['z4', 'z5']   \n",
       "\n",
       "                lattice_params_value_list basis_params_value_list  \n",
       "prototype_index                                                    \n",
       "0                  [2.508, 1.66786283892]               [0.05995]  \n",
       "1                                 [4.556]                      []  \n",
       "2                  [8.91, 0.361391694725]          [0.328, 0.348]  \n",
       "3                  [5.765, 1.63781439722]        [0.0278, 0.2589]  \n",
       "4                    [2.982, 4.651240778]          [0.528, 0.139]  "
      ]
     },
     "execution_count": 6,
     "metadata": {},
     "output_type": "execute_result"
    }
   ],
   "source": [
    "Aflow_data_dir = '../fedorov/crystal_data/Aflow_processed_data.csv'\n",
    "Aflow_database = pd.read_csv(Aflow_data_dir, index_col=0)\n",
    "prototype_list = dict(zip(Aflow_database.index, Aflow_database['id']))\n",
    "Aflow_database.head()"
   ]
  },
  {
   "cell_type": "code",
   "execution_count": 7,
   "metadata": {
    "slideshow": {
     "slide_type": "skip"
    }
   },
   "outputs": [],
   "source": [
    "def visualize(prototype_index):\n",
    "    print(prototype_list[prototype_index])\n",
    "    \n",
    "    new_structure = AflowPrototype(prototype_index=prototype_index, print_info=True, set_type=True)\n",
    "    basis_vectors, type_list = new_structure.get_basis_vectors()\n",
    "    lattice_vectors = new_structure.get_lattice_vectors()\n",
    "    basis_vectors, type_list= make_positions_for_box(basis_vectors, type_list)\n",
    "    Lx, Ly, Lz, xy, xz, yz = convert_to_box(lattice_vectors)\n",
    "    scaled_basis = fractional_to_cartesian(basis_vectors, lattice_vectors)\n",
    "    \n",
    "    N = len(scaled_basis)\n",
    "    colors = [colormap[type] for type in type_list]\n",
    "    radii = [0.5]*N\n",
    "    \n",
    "    particle_prim = draw.Spheres(positions=scaled_basis, colors=colors, radii=radii)\n",
    "    box_prim = draw.Box(Lx=Lx, Ly=Ly, Lz=Lz, xy=xy, xz=xz, yz=yz, width=0.05)\n",
    "    scene = draw.Scene([particle_prim, box_prim], size=[30,30])\n",
    "    scene.show()"
   ]
  },
  {
   "cell_type": "code",
   "execution_count": 8,
   "metadata": {
    "scrolled": false,
    "slideshow": {
     "slide_type": "slide"
    }
   },
   "outputs": [
    {
     "name": "stdout",
     "output_type": "stream",
     "text": [
      "oP8-Np-62\n",
      "Info for the chosen crystal structure prototype:\n",
      " id: oP8-Np-62, (Pearson-Chemistry-SpaceGroup)\n",
      " Wyckoff sites: ['cc']\n",
      " available lattice parameters: {'a': 6.663, 'b': 4.722999999999612, 'c': 4.88700000000231}\n",
      " available basis parameters: {'x1': 0.464, 'z1': 0.292, 'x2': 0.181, 'z2': 0.658}\n"
     ]
    },
    {
     "data": {
      "application/vnd.jupyter.widget-view+json": {
       "model_id": "ea5084b333bd47b6949a5b359e66dd58",
       "version_major": 2,
       "version_minor": 0
      },
      "text/plain": [
       "VispyWidget(height=600, width=600)"
      ]
     },
     "metadata": {},
     "output_type": "display_data"
    }
   ],
   "source": [
    "visualize(133)"
   ]
  },
  {
   "cell_type": "code",
   "execution_count": null,
   "metadata": {
    "slideshow": {
     "slide_type": "skip"
    }
   },
   "outputs": [],
   "source": []
  }
 ],
 "metadata": {
  "celltoolbar": "Slideshow",
  "kernelspec": {
   "display_name": "Python 3",
   "language": "python",
   "name": "python3"
  },
  "language_info": {
   "codemirror_mode": {
    "name": "ipython",
    "version": 3
   },
   "file_extension": ".py",
   "mimetype": "text/x-python",
   "name": "python",
   "nbconvert_exporter": "python",
   "pygments_lexer": "ipython3",
   "version": "3.7.3"
  }
 },
 "nbformat": 4,
 "nbformat_minor": 4
}
