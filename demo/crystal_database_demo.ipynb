{
 "cells": [
  {
   "cell_type": "markdown",
   "metadata": {
    "slideshow": {
     "slide_type": "slide"
    }
   },
   "source": [
    "# Goal\n",
    "* A generic python package to initialize different crystal structure for simulation\n",
    "* Output: Elements needed to define a crystal structure\n",
    "    - Lattice vectors (3x3) or box parameters (lx, ly, lz, xy, xz, yz)\n",
    "    - Basis vectors (Nx3)\n",
    "    - Orientation in form of  quaternion (for anisotropic particles, if needed)\n",
    "* Input: information to define a crystal\n",
    "    - For basis vector\n",
    "        - Pearson symbol + (position parameter for some Wyckoff site) \n",
    "        - Space group + Wyckoff site positions(unique representation)\n",
    "        - if needed: orientation\n",
    "    - For Lattice vector:\n",
    "        - Standard: a, b/a, a/c, 𝜶, 𝜷, 𝜸\n",
    "        - Can be reduced based on Pearson symbol or Space group\n",
    "    - complete information: space group + (a, b/a, a/c, 𝜶, 𝜷, 𝜸) + unique Wyckoff positions\n"
   ]
  },
  {
   "cell_type": "markdown",
   "metadata": {
    "slideshow": {
     "slide_type": "slide"
    }
   },
   "source": [
    "# Existing crystal database referenced:\n",
    "\n",
    "http://aflowlib.org/CrystalDatabase/:\n",
    "\n",
    "This database provides 590 different known crystal structures in nature. This package allows user to directly form the 590 structures listed as numpy arrays and provide easy access to change the free parameters within each structure prototype to get user defined structures derived from these prototypes.\n",
    "\n",
    "* M. J. Mehl, D. Hicks, C. Toher, O. Levy, R. M. Hanson, G. L. W. Hart, and S. Curtarolo, The AFLOW Library of Crystallographic Prototypes: Part 1, Comp. Mat. Sci. 136, S1-S828 (2017). (doi=10.1016/j.commatsci.2017.01.017))\n",
    "\n",
    "* D. Hicks, M. J. Mehl, E. Gossett, C. Toher, O. Levy, R. M. Hanson, G. L. W. Hart, and S. Curtarolo, The AFLOW Library of Crystallographic Prototypes: Part 2, Comp. Mat. Sci. 161, S1-S1011 (2019). (doi=10.1016/j.commatsci.2018.10.043)\n",
    "\n",
    "\n"
   ]
  },
  {
   "cell_type": "markdown",
   "metadata": {
    "slideshow": {
     "slide_type": "slide"
    }
   },
   "source": [
    "# What it can do now:\n",
    "\n",
    "- Generate crystal structure by Aflow Prototypes or fully defined structure by spacegroup and Wyckoff positions\n",
    "- Provide easy to allow creation of new structures with user defined parameters\n",
    "- Some basic crystal structure related methods: space group symetry operation, box parameter conversion, etc"
   ]
  },
  {
   "cell_type": "markdown",
   "metadata": {
    "slideshow": {
     "slide_type": "slide"
    }
   },
   "source": [
    "\n",
    "# Installation\n",
    "\n",
    "`$ pip install fedorov`"
   ]
  },
  {
   "cell_type": "markdown",
   "metadata": {
    "slideshow": {
     "slide_type": "slide"
    }
   },
   "source": [
    "# Demo with Aflow Prototypes"
   ]
  },
  {
   "cell_type": "code",
   "execution_count": 1,
   "metadata": {
    "slideshow": {
     "slide_type": "subslide"
    }
   },
   "outputs": [],
   "source": [
    "import numpy as np\n",
    "from fedorov import convert_to_box\n",
    "from fedorov import SpaceGroup, Prototype, AflowPrototype"
   ]
  },
  {
   "cell_type": "code",
   "execution_count": 2,
   "metadata": {
    "slideshow": {
     "slide_type": "subslide"
    }
   },
   "outputs": [
    {
     "name": "stdout",
     "output_type": "stream",
     "text": [
      "[[0.     0.     0.    ]\n",
      " [0.5    0.5    0.8973]\n",
      " [0.5    0.5    0.4517]\n",
      " [0.5    0.     0.3785]\n",
      " [0.     0.5    0.3785]] \n",
      " [[4.046  0.     0.    ]\n",
      " [0.     4.046  0.    ]\n",
      " [0.     0.     4.1394]] \n",
      " ['B', 'A', 'C', 'A', 'A'] \n",
      " 4.046 4.046 4.13940000000478 0.0 0.0 0.0 \n",
      "\n"
     ]
    }
   ],
   "source": [
    "# generate the exact prototype provided by Aflow, use prototype_index [0, 589]\n",
    "prototype_index = 5\n",
    "new_structure = AflowPrototype(prototype_index=prototype_index, print_info=False, \n",
    "                               set_type=True)\n",
    "basis_vectors, type_list = new_structure.get_basis_vectors()\n",
    "lattice_vectors = new_structure.get_lattice_vectors()\n",
    "Lx, Ly, Lz, xy, xz, yz = convert_to_box(lattice_vectors)\n",
    "print(basis_vectors, '\\n', lattice_vectors, '\\n',type_list, '\\n', \n",
    "      Lx, Ly, Lz, xy, xz, yz, '\\n')"
   ]
  },
  {
   "cell_type": "code",
   "execution_count": 3,
   "metadata": {
    "slideshow": {
     "slide_type": "subslide"
    }
   },
   "outputs": [
    {
     "name": "stdout",
     "output_type": "stream",
     "text": [
      "Info for the chosen crystal structure prototype:\n",
      " id: tP5-O3Pb(Ti0.48)Zr0.52-99, (Pearson-Chemistry-SpaceGroup)\n",
      " Wyckoff sites: ['bc', 'a', 'b']\n",
      " available lattice parameters: {'a': 4.046, 'c': 4.13940000000478}\n",
      " available basis parameters: {'z1': 0.0, 'z2': 0.8973, 'z3': 0.4517, 'z4': 0.3785}\n"
     ]
    }
   ],
   "source": [
    "# get free parameter info when initializing using print_info=True\n",
    "# then modify to get user defined structures based on the prototype:\n",
    "prototype_index = 5\n",
    "new_structure = AflowPrototype(prototype_index=prototype_index, print_info=True, \n",
    "                               set_type=True)"
   ]
  },
  {
   "cell_type": "code",
   "execution_count": 4,
   "metadata": {
    "slideshow": {
     "slide_type": "fragment"
    }
   },
   "outputs": [
    {
     "name": "stdout",
     "output_type": "stream",
     "text": [
      "[[0.     0.     0.1   ]\n",
      " [0.5    0.5    0.8973]\n",
      " [0.5    0.5    0.4517]\n",
      " [0.5    0.     0.3785]\n",
      " [0.     0.5    0.3785]] \n",
      " [[3.     0.     0.    ]\n",
      " [0.     3.     0.    ]\n",
      " [0.     0.     4.1394]] \n",
      " ['B', 'A', 'C', 'A', 'A'] \n",
      " 3.0 3.0 4.13940000000478 0.0 0.0 0.0 \n",
      "\n"
     ]
    }
   ],
   "source": [
    "basis_vectors, type_list = new_structure.get_basis_vectors(z1=0.1)\n",
    "lattice_vectors = new_structure.get_lattice_vectors(a=3)\n",
    "Lx, Ly, Lz, xy, xz, yz = convert_to_box(lattice_vectors)\n",
    "print(basis_vectors, '\\n', lattice_vectors, '\\n',type_list, '\\n', \n",
    "      Lx, Ly, Lz, xy, xz, yz, '\\n')"
   ]
  },
  {
   "cell_type": "markdown",
   "metadata": {
    "slideshow": {
     "slide_type": "slide"
    }
   },
   "source": [
    "# Demo with space group and Wyckoff postions"
   ]
  },
  {
   "cell_type": "code",
   "execution_count": 5,
   "metadata": {
    "scrolled": false,
    "slideshow": {
     "slide_type": "fragment"
    }
   },
   "outputs": [],
   "source": [
    "# generate crystal structure by spacegroup number and Wyckoff site\n",
    "new_structure_by_spg = SpaceGroup(220)\n",
    "basis_positions = np.array([[0.1, 0.12, 0.13], [0.14, 0.15, 0.17]])\n",
    "base_quaternions = np.array([[0, 0, 0, 0], [0.1, 0.1, 0.1, 0.1]])\n",
    "\n",
    "basis_vectors, type_list, quaternions = \\\n",
    "    new_structure_by_spg.get_basis_vectors(basis_positions, base_type=['A', 'B'], \n",
    "                                           base_quaternions=base_quaternions, \n",
    "                                           apply_orientation=True)\n",
    "lattice_vectors = new_structure_by_spg.get_lattice_vectors()\n"
   ]
  },
  {
   "cell_type": "markdown",
   "metadata": {
    "slideshow": {
     "slide_type": "slide"
    }
   },
   "source": [
    "# Demo with Prototype (Spacegroup and minimal Wyckoff position parameters)\n"
   ]
  },
  {
   "cell_type": "code",
   "execution_count": 6,
   "metadata": {
    "scrolled": false,
    "slideshow": {
     "slide_type": "fragment"
    }
   },
   "outputs": [
    {
     "name": "stdout",
     "output_type": "stream",
     "text": [
      "Space group number: 230\n",
      " lattice type: cubic\n",
      " Default parameters for lattice: {'a': 1}\n",
      "Wyckoff sites:['h', 'h']\n",
      " Particle type for each Wyckoff sites:['A', 'B']\n",
      " lattice parameters list:['a']\n",
      " basis parameters list:['x1', 'y1', 'z1', 'x2', 'y2', 'z2']\n"
     ]
    }
   ],
   "source": [
    "# define a prototype by spacegroup number and wyckoff site names\n",
    "structure_test = Prototype(space_group_number=230, wyckoff_site='hh', type_by_site='ab', \n",
    "                           print_info=True)"
   ]
  },
  {
   "cell_type": "code",
   "execution_count": 7,
   "metadata": {
    "slideshow": {
     "slide_type": "fragment"
    }
   },
   "outputs": [],
   "source": [
    "basis_params = {'x1': 0.12, 'y1': 0.13, 'z1': 0.14, 'x2': -0.125, 'y2': -0.135, 'z2': -0.145}\n",
    "basis_vectors, type_list = structure_test.get_basis_vectors(**basis_params)\n",
    "lattice_vectors = structure_test.get_lattice_vectors(a=4)\n",
    "\n",
    "# print(basis_vectors, '\\n', lattice_vectors, '\\n',type_list, '\\n')"
   ]
  },
  {
   "cell_type": "markdown",
   "metadata": {
    "slideshow": {
     "slide_type": "slide"
    }
   },
   "source": [
    "# Features to add?\n",
    "* Possible useful functions:\n",
    "    - different density scaling\n",
    "    - box replication in different directions\n",
    "    - support for gsd file format for initial frame"
   ]
  },
  {
   "cell_type": "code",
   "execution_count": null,
   "metadata": {},
   "outputs": [],
   "source": []
  }
 ],
 "metadata": {
  "celltoolbar": "Slideshow",
  "kernelspec": {
   "display_name": "Python 3",
   "language": "python",
   "name": "python3"
  },
  "language_info": {
   "codemirror_mode": {
    "name": "ipython",
    "version": 3
   },
   "file_extension": ".py",
   "mimetype": "text/x-python",
   "name": "python",
   "nbconvert_exporter": "python",
   "pygments_lexer": "ipython3",
   "version": "3.7.3"
  }
 },
 "nbformat": 4,
 "nbformat_minor": 2
}
