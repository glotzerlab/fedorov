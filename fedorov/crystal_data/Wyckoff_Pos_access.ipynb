{
 "cells": [
  {
   "cell_type": "code",
   "execution_count": 56,
   "metadata": {},
   "outputs": [],
   "source": [
    "import pandas as pd\n",
    "from selenium import webdriver\n",
    "from selenium.webdriver.chrome.options import Options\n",
    "import os\n",
    "from bs4 import BeautifulSoup\n",
    "import json\n",
    "import re\n"
   ]
  },
  {
   "cell_type": "code",
   "execution_count": 57,
   "metadata": {},
   "outputs": [
    {
     "name": "stderr",
     "output_type": "stream",
     "text": [
      "/Users/Pengji/miniconda3/lib/python3.7/site-packages/ipykernel_launcher.py:6: DeprecationWarning: use options instead of chrome_options\n",
      "  \n"
     ]
    }
   ],
   "source": [
    "# instantiate a chrome options object so you can set the size and headless preference\n",
    "chrome_options = Options()\n",
    "# chrome_options.add_argument(\"--headless\")\n",
    "chrome_options.add_argument(\"--window-size=1920x1080\")\n",
    "\n",
    "driver = webdriver.Chrome(chrome_options=chrome_options)"
   ]
  },
  {
   "cell_type": "code",
   "execution_count": 8,
   "metadata": {
    "scrolled": true
   },
   "outputs": [
    {
     "name": "stderr",
     "output_type": "stream",
     "text": [
      "/Users/Pengji/miniconda3/lib/python3.7/site-packages/ipykernel_launcher.py:6: DeprecationWarning: use options instead of chrome_options\n",
      "  \n"
     ]
    }
   ],
   "source": [
    "for num in range(1,231):\n",
    "    driver.get('https://www.cryst.ehu.es/cryst/get_wp.html')\n",
    "\n",
    "    inputElement = driver.find_element_by_name(\"gnum\")\n",
    "    inputElement.send_keys(num)\n",
    "    driver.find_element_by_name('standard').click()\n",
    "\n",
    "    html = driver.page_source\n",
    "    soup = BeautifulSoup(html, 'html.parser')\n",
    "\n",
    "    table = soup.find('center')\n",
    "    table = table.find('tbody')\n",
    "    \n",
    "    Wyckoff_positions = {}\n",
    "    i = 0\n",
    "    for row in table.find_all('tr',recursive=False)[2:]:\n",
    "        Wyckoff_site = row.find_all('td')[1].text\n",
    "        position = row.find_all('td')[3].text.split(' ')[0].strip(\"()\").split(',')\n",
    "        Wyckoff_positions[Wyckoff_site] = position\n",
    "        i+=1\n",
    "    with open(f'space_group_{num}_Wyckoff_site_data.json', 'w') as f:\n",
    "        json.dump(Wyckoff_positions, f)\n"
   ]
  },
  {
   "cell_type": "code",
   "execution_count": null,
   "metadata": {},
   "outputs": [],
   "source": [
    "# use Rhombohedral axes choice for hR structures\n",
    "\n",
    "letter = 'abcdefghijklmnopqrstuvwxyz'\n",
    "\n",
    "for num in (146, 148, 155, 160, 161, 166, 167):\n",
    "\n",
    "    Wyckoff_positions_list = []\n",
    "    Wyckoff_positions = {}\n",
    "\n",
    "    driver.get(f'https://it.iucr.org/Ac/ch2o3v0001/sgtable2o3o{num}/')\n",
    "    html = driver.page_source\n",
    "    soup = BeautifulSoup(html, 'html.parser')\n",
    "\n",
    "    table = soup.find_all('table', {'class': 'genpos'})[-1]\n",
    "    table = table.find('table', {'class': 'genposcoords'})\n",
    "    genpos = table.find('td', {'class': 'genposcoords'})\n",
    "    genpos = re.findall(r\"<i><i>(.*?)</i></i>\", str(genpos))\n",
    "    Wyckoff_positions_list.append(genpos)\n",
    "\n",
    "    table = soup.find_all('table', {'class': 'specpos'})[-1]\n",
    "    table = table.find_all('table', {'class': 'specposcoords'})\n",
    "    for line in table:\n",
    "        pos = pd.read_html(str(line))[0].iloc[0, 0].replace(u'\\xa0', u'').split(',')\n",
    "        Wyckoff_positions_list.append(pos)\n",
    "    n = len(Wyckoff_positions_list)\n",
    "    for i in range(0, n):\n",
    "        Wyckoff_positions[letter[n - 1 - i]] = Wyckoff_positions_list[i]\n",
    "\n",
    "    with open('space_group_{}_Wyckoff_site_data.json'.format(num), 'w') as f:\n",
    "        json.dump(Wyckoff_positions, f)\n"
   ]
  }
 ],
 "metadata": {
  "kernelspec": {
   "display_name": "Python 3",
   "language": "python",
   "name": "python3"
  },
  "language_info": {
   "codemirror_mode": {
    "name": "ipython",
    "version": 3
   },
   "file_extension": ".py",
   "mimetype": "text/x-python",
   "name": "python",
   "nbconvert_exporter": "python",
   "pygments_lexer": "ipython3",
   "version": "3.7.3"
  }
 },
 "nbformat": 4,
 "nbformat_minor": 2
}
