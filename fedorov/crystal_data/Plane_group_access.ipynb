{
 "cells": [
  {
   "cell_type": "code",
   "execution_count": 9,
   "metadata": {},
   "outputs": [],
   "source": [
    "import pandas as pd\n",
    "from selenium import webdriver\n",
    "from selenium.webdriver.chrome.options import Options\n",
    "import os\n",
    "from bs4 import BeautifulSoup\n",
    "import re\n",
    "import numpy as np\n",
    "import pickle"
   ]
  },
  {
   "cell_type": "code",
   "execution_count": 10,
   "metadata": {},
   "outputs": [
    {
     "name": "stderr",
     "output_type": "stream",
     "text": [
      "/Users/Pengji/miniconda3/lib/python3.7/site-packages/ipykernel_launcher.py:6: DeprecationWarning: use options instead of chrome_options\n",
      "  \n"
     ]
    }
   ],
   "source": [
    "# instantiate a chrome options object so you can set the size and headless preference\n",
    "chrome_options = Options()\n",
    "# chrome_options.add_argument(\"--headless\")\n",
    "chrome_options.add_argument(\"--window-size=1920x1080\")\n",
    "\n",
    "driver = webdriver.Chrome(chrome_options=chrome_options)"
   ]
  },
  {
   "cell_type": "code",
   "execution_count": 11,
   "metadata": {},
   "outputs": [],
   "source": [
    "planegroup_dict = {}\n",
    "for num in range (1,18):\n",
    "    driver.get('https://www.cryst.ehu.es/plane/get_plane_gen.html')\n",
    "\n",
    "    inputElement = driver.find_element_by_name(\"gnum\")\n",
    "    inputElement.send_keys(num)\n",
    "    driver.find_element_by_name('list').click()\n",
    "\n",
    "    html = driver.page_source\n",
    "    soup = BeautifulSoup(html, 'html.parser')\n",
    "\n",
    "    table = soup.find('center')\n",
    "    table = table.find('tbody')\n",
    "\n",
    "    n = len(table.find_all('tr',recursive=False)[2:])\n",
    "    rotations = np.zeros((n,2,2))\n",
    "    translations = np.zeros((n,2))\n",
    "    i = 0\n",
    "    for row in table.find_all('tr',recursive=False)[2:]:\n",
    "        value_list = re.findall(r'[-+0-9./]+', row.find_all('td')[0]['id'])\n",
    "        value_list = [eval(item) for item in value_list]\n",
    "        rotations[i, 0, :] = value_list[0:2]\n",
    "        rotations[i, 1, :] = value_list[3:5]\n",
    "        translations[i, 0] = value_list[2]\n",
    "        translations[i, 1] = value_list[5]\n",
    "        i += 1\n",
    "    planegroup_dict[num] = {'rotations':rotations, 'translations':translations}\n",
    "\n",
    "    "
   ]
  },
  {
   "cell_type": "code",
   "execution_count": 12,
   "metadata": {},
   "outputs": [],
   "source": [
    "with open('plane_group_info.pickle','wb') as f:\n",
    "    pickle.dump(planegroup_dict, f)"
   ]
  }
 ],
 "metadata": {
  "kernelspec": {
   "display_name": "Python 3",
   "language": "python",
   "name": "python3"
  },
  "language_info": {
   "codemirror_mode": {
    "name": "ipython",
    "version": 3
   },
   "file_extension": ".py",
   "mimetype": "text/x-python",
   "name": "python",
   "nbconvert_exporter": "python",
   "pygments_lexer": "ipython3",
   "version": "3.7.3"
  }
 },
 "nbformat": 4,
 "nbformat_minor": 4
}
