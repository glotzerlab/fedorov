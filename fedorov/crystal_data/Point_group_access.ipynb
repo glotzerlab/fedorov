{
 "cells": [
  {
   "cell_type": "code",
   "execution_count": 1,
   "metadata": {},
   "outputs": [],
   "source": [
    "from selenium import webdriver\n",
    "from selenium.webdriver.chrome.options import Options\n",
    "from bs4 import BeautifulSoup\n",
    "import re\n",
    "import numpy as np\n",
    "import pickle\n",
    "import rowan\n",
    "import json"
   ]
  },
  {
   "cell_type": "code",
   "execution_count": 2,
   "metadata": {},
   "outputs": [
    {
     "name": "stderr",
     "output_type": "stream",
     "text": [
      "/Users/Pengji/miniconda3/lib/python3.7/site-packages/ipykernel_launcher.py:6: DeprecationWarning: use options instead of chrome_options\n",
      "  \n"
     ]
    }
   ],
   "source": [
    "# instantiate a chrome options object so you can set the size and headless preference\n",
    "chrome_options = Options()\n",
    "# chrome_options.add_argument(\"--headless\")\n",
    "chrome_options.add_argument(\"--window-size=1920x1080\")\n",
    "\n",
    "driver = webdriver.Chrome(chrome_options=chrome_options)\n"
   ]
  },
  {
   "cell_type": "code",
   "execution_count": 3,
   "metadata": {},
   "outputs": [],
   "source": [
    "point_group_rotation_matrix_dict = {}\n",
    "for num in range (1,33):\n",
    "    driver.get('https://www.cryst.ehu.es/cgi-bin/cryst/programs/'\n",
    "               'nph-point_genpos?num={}'.format(num))\n",
    "\n",
    "    html = driver.page_source\n",
    "    soup = BeautifulSoup(html, 'html.parser')\n",
    "\n",
    "    table = soup.find_all('center')[1]\n",
    "    table = table.find('tbody')\n",
    "\n",
    "    n = len(table.find_all('tr',recursive=False)[2:])\n",
    "    rotations = np.zeros((n,3,3))\n",
    "    i = 0\n",
    "    for row in table.find_all('tr',recursive=False)[2:]:\n",
    "        table = row.find('table')\n",
    "        value_list = re.findall(r'[-+0-9./]+', table.find('pre').string)\n",
    "        value_list = [eval(item) for item in value_list]\n",
    "        rotations[i, 0, :] = value_list[0:3]\n",
    "        rotations[i, 1, :] = value_list[3:6]\n",
    "        rotations[i, 2, :] = value_list[6:9]\n",
    "        i += 1\n",
    "    point_group_rotation_matrix_dict[num] = {'rotations':rotations}\n",
    "   "
   ]
  },
  {
   "cell_type": "code",
   "execution_count": 4,
   "metadata": {},
   "outputs": [],
   "source": [
    "with open('point_group_rotation_matrix_dict.pickle','wb') as f:\n",
    "    pickle.dump(point_group_rotation_matrix_dict, f)"
   ]
  },
  {
   "cell_type": "code",
   "execution_count": 5,
   "metadata": {},
   "outputs": [],
   "source": [
    "point_group_list = ['1', '-1', '2', 'm', '2/m', '222', 'mm2', 'mmm',\n",
    "                    '4', '-4', '4/m', '422', '4mm', '-42m', '4/mmm', '3',\n",
    "                    '-3', '32', '3m', '-3m', '6', '-6', '6/m', '622',\n",
    "                    '6mm', '-6m2', '6/mmm', '23', 'm-3', '432', '-43m', 'm-3m']\n",
    "num = range(1, 33)\n",
    "point_group_name_dict = dict(zip(num, point_group_list))\n",
    "\n",
    "with open('point_group_name_mapping.json', 'w') as f:\n",
    "    json.dump(point_group_name_dict, f)"
   ]
  },
  {
   "cell_type": "code",
   "execution_count": 6,
   "metadata": {},
   "outputs": [],
   "source": [
    "point_group_quat_dict = {}\n",
    "for key, item in point_group_rotation_matrix_dict.items():\n",
    "    quats = []\n",
    "    n = item['rotations'].shape[0]\n",
    "    for i in range (0, n):\n",
    "        qtemp = rowan.from_matrix(item['rotations'][i,:,:], require_orthogonal=False)\n",
    "        quats.append(qtemp.tolist())\n",
    "\n",
    "\n",
    "    point_group_quat_dict[key] = quats\n",
    "\n",
    "with open('point_group_quat_dict.json', 'w') as f:\n",
    "    json.dump(point_group_quat_dict, f)  "
   ]
  }
 ],
 "metadata": {
  "kernelspec": {
   "display_name": "Python 3",
   "language": "python",
   "name": "python3"
  },
  "language_info": {
   "codemirror_mode": {
    "name": "ipython",
    "version": 3
   },
   "file_extension": ".py",
   "mimetype": "text/x-python",
   "name": "python",
   "nbconvert_exporter": "python",
   "pygments_lexer": "ipython3",
   "version": "3.7.3"
  }
 },
 "nbformat": 4,
 "nbformat_minor": 4
}
